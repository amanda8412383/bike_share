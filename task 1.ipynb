{
 "cells": [
  {
   "cell_type": "markdown",
   "metadata": {},
   "source": [
    "This file preserve the SQL query I used for task 1. "
   ]
  },
  {
   "cell_type": "markdown",
   "metadata": {},
   "source": [
    "### Q1: How many bike trips have been started in San Jose?"
   ]
  },
  {
   "cell_type": "code",
   "execution_count": null,
   "metadata": {},
   "outputs": [],
   "source": [
    "#standardSQL\n",
    "\"\"\"SELECT\n",
    "start_station_name, lon, lat, COUNT(trip_id) AS cnt\n",
    "FROM\n",
    "  `bigquery-public-data.san_francisco_bikeshare.bikeshare_trips` AS trip\n",
    "INNER JOIN \n",
    "  (SELECT station_id, region_id, lon, lat\n",
    "  FROM `bigquery-public-data.san_francisco_bikeshare.bikeshare_station_info` AS S\n",
    "  INNER JOIN \n",
    "    (SELECT region_id AS id\n",
    "    FROM`bigquery-public-data.san_francisco_bikeshare.bikeshare_regions`\n",
    "    WHERE name = \"San Jose\")AS R\n",
    "  ON S.region_id = R.id\n",
    "    ) AS station\n",
    "ON trip.start_station_id =station.station_id\n",
    "GROUP BY start_station_name, lon, lat\"\"\"\n",
    "\n"
   ]
  },
  {
   "cell_type": "markdown",
   "metadata": {},
   "source": [
    "### Q2: Which bike station has the oldest members in average?"
   ]
  },
  {
   "cell_type": "code",
   "execution_count": null,
   "metadata": {},
   "outputs": [],
   "source": [
    "#standardSQL\n",
    "Q2a = \"\"\"SELECT\n",
    "start_station_name AS station, \"start\" AS station_type, EXTRACT(year FROM start_date) AS year,  AVG(EXTRACT(year FROM start_date)-member_birth_year) AS average_age\n",
    "FROM\n",
    "  `bigquery-public-data.san_francisco_bikeshare.bikeshare_trips` \n",
    "GROUP BY station, year\n",
    "UNION DISTINCT\n",
    "SELECT\n",
    "end_station_name AS station, \"end\" AS station_type, EXTRACT(year FROM end_date) AS year,  AVG(EXTRACT(year FROM start_date)-member_birth_year) AS average_age\n",
    "FROM\n",
    "  `bigquery-public-data.san_francisco_bikeshare.bikeshare_trips`\n",
    "GROUP BY station, year\n",
    "ORDER BY average_age DESC\"\"\"\n"
   ]
  },
  {
   "cell_type": "code",
   "execution_count": null,
   "metadata": {},
   "outputs": [],
   "source": [
    "#standardSQL\n",
    "Q2b = \"\"\"SELECT station, AVG(old_pct) AS mean,  AVG(old_pct) - 1.96 * STDDEV_SAMP(old_pct) AS ci_l, AVG(old_pct) + 1.96 * STDDEV_SAMP(old_pct) AS ci_h \n",
    "FROM\n",
    "  (SELECT   \n",
    "  station, d, SUM(old)/COUNT(trip_id)*100 AS old_pct\n",
    "  FROM \n",
    "    (SELECT\n",
    "    start_station_name AS station, EXTRACT(date FROM start_date) AS d, trip_id,\n",
    "    CASE\n",
    "      WHEN EXTRACT(year FROM start_date) = 2017 AND member_birth_year < 1953 THEN 1\n",
    "      WHEN EXTRACT(year FROM start_date) = 2018 AND member_birth_year < 1954 THEN 1\n",
    "      ELSE 0\n",
    "    END AS old,\n",
    "    FROM\n",
    "      `bigquery-public-data.san_francisco_bikeshare.bikeshare_trips`\n",
    "      WHERE  EXTRACT(year FROM start_date) > 2016) \n",
    "    GROUP BY station, d)\n",
    "GROUP BY station\"\"\""
   ]
  },
  {
   "cell_type": "code",
   "execution_count": null,
   "metadata": {},
   "outputs": [],
   "source": [
    "Q2c = \"\"\"\n",
    "\n",
    "SELECT station, age, COUNT(trip_id) AS cnt\n",
    "FROM\n",
    "    (SELECT\n",
    "    start_station_name AS station, trip_id, \n",
    "    CASE\n",
    "      WHEN EXTRACT(year FROM start_date) = 2017 THEN 2017 - member_birth_year\n",
    "      WHEN EXTRACT(year FROM start_date) = 2018 THEN 2018 - member_birth_year\n",
    "    END AS age\n",
    "    FROM\n",
    "      `bigquery-public-data.san_francisco_bikeshare.bikeshare_trips`\n",
    "      WHERE  EXTRACT(year FROM start_date) > 2016 AND (start_station_name = \"San Carlos St at 11th St\" OR start_station_name = \"Mission St at 1st St\"))\n",
    "GROUP BY station, age\n",
    "\"\"\""
   ]
  },
  {
   "cell_type": "markdown",
   "metadata": {},
   "source": [
    "### Q3: During which month in 2018 did customers ride the longest per trip?"
   ]
  },
  {
   "cell_type": "code",
   "execution_count": null,
   "metadata": {},
   "outputs": [],
   "source": [
    "\"\"\"SELECT month, avg(len) AS avg_len\n",
    "FROM\n",
    "  (SELECT timestamp_diff(end_date, start_date, second) AS len, EXTRACT(month from  start_date) AS month\n",
    "  FROM\n",
    "    `bigquery-public-data.san_francisco_bikeshare.bikeshare_trips`\n",
    "  WHERE EXTRACT(year from  start_date) = 2018 AND EXTRACT(month from  start_date) =   EXTRACT(month from  end_date))\n",
    "GROUP BY month \n",
    "ORDER BY avg_len DESC\"\"\""
   ]
  },
  {
   "cell_type": "code",
   "execution_count": null,
   "metadata": {},
   "outputs": [],
   "source": [
    "Q3b = \"\"\"\n",
    "SELECT  \n",
    "    month, duration,COUNT(trip_id) AS cnt\n",
    "FROM(\n",
    "    SELECT \n",
    "        trip_id,\n",
    "        EXTRACT(MONTH from start_date) AS month,\n",
    "        TIMESTAMP_DIFF(end_date, start_date, minute) AS duration,\n",
    "    FROM \n",
    "        `bigquery-public-data.san_francisco_bikeshare.bikeshare_trips` \n",
    "    WHERE EXTRACT(YEAR from start_date) = 2018)\n",
    "GROUP BY month, duration\n",
    "\"\"\""
   ]
  },
  {
   "cell_type": "markdown",
   "metadata": {},
   "source": [
    "### Q4: What are the top 3 starting stations for customers with a subscription?"
   ]
  },
  {
   "cell_type": "code",
   "execution_count": null,
   "metadata": {},
   "outputs": [],
   "source": [
    "\"\"\"\n",
    "SELECT station, year, count(trip_id) AS cnt\n",
    "FROM\n",
    "  (SELECT start_station_id AS id, \n",
    "    FIRST_VALUE(start_station_name) OVER(PARTITION BY start_station_id ORDER BY start_date DESC) AS station, \n",
    "    Extract(year from start_date) AS year, \n",
    "    trip_id\n",
    "  FROM\n",
    "    `bigquery-public-data.san_francisco_bikeshare.bikeshare_trips`\n",
    "  WHERE subscriber_type = \"Subscriber\")\n",
    "GROUP BY  station, year\n",
    "\n",
    "\"\"\""
   ]
  },
  {
   "cell_type": "markdown",
   "metadata": {},
   "source": [
    "### Q5: What is the average time difference between start dates of bike trips for the station “SAP Center”?"
   ]
  },
  {
   "cell_type": "code",
   "execution_count": null,
   "metadata": {},
   "outputs": [],
   "source": [
    "\"\"\"\n",
    "SELECT \n",
    "  MIN(minimum) AS minimum,\n",
    "  MIN(q1) AS q1, \n",
    "  MIN(q2) AS q2,\n",
    "  MIN(q3) AS q3,\n",
    "  MIN(maximum) AS maximum , \n",
    "  AVG(gap) AS mean,\n",
    "\n",
    "FROM\n",
    "  (SELECT\n",
    "  PERCENTILE_CONT(TIMESTAMP_DIFF(start_date, next, second), 0) OVER() AS minimum,\n",
    "  PERCENTILE_CONT(TIMESTAMP_DIFF(start_date, next, second), 0.25) OVER() AS q1,\n",
    "  PERCENTILE_CONT(TIMESTAMP_DIFF(start_date, next, second), 0.5) OVER() AS q2,\n",
    "  PERCENTILE_CONT(TIMESTAMP_DIFF(start_date, next, second), 0.75) OVER() AS q3,\n",
    "  PERCENTILE_CONT(TIMESTAMP_DIFF(start_date, next, second), 1) OVER() AS maximum,\n",
    "  TIMESTAMP_DIFF(start_date, next, second) AS gap,\n",
    "  FROM \n",
    "    (SELECT start_date, LAG(start_date)OVER (ORDER BY start_date) AS next\n",
    "    FROM\n",
    "    `bigquery-public-data.san_francisco_bikeshare.bikeshare_trips` \n",
    "    WHERE start_station_name = \"SAP Center\"))\n",
    "\n",
    "\n",
    "\"\"\""
   ]
  },
  {
   "cell_type": "code",
   "execution_count": null,
   "metadata": {},
   "outputs": [],
   "source": [
    "Q5b=\"\"\"\n",
    "#standardSQL\n",
    "SELECT \n",
    "    start_date,\n",
    "    next,\n",
    "    TIMESTAMP_DIFF(start_date, next, second) AS gap,\n",
    "FROM \n",
    "    (SELECT start_date, LAG(start_date)OVER (ORDER BY start_date) AS next\n",
    "    FROM\n",
    "    `bigquery-public-data.san_francisco_bikeshare.bikeshare_trips` \n",
    "    WHERE start_station_name = \"SAP Center\")\n",
    "\"\"\""
   ]
  }
 ],
 "metadata": {
  "interpreter": {
   "hash": "05d24087b135ef8af3ac14ef5f0b8b08c3013cfa2664352105f6eef1ecb4f353"
  },
  "kernelspec": {
   "display_name": "Python 3.9.7 64-bit ('bike': conda)",
   "name": "python3"
  },
  "language_info": {
   "codemirror_mode": {
    "name": "ipython",
    "version": 3
   },
   "file_extension": ".py",
   "mimetype": "text/x-python",
   "name": "python",
   "nbconvert_exporter": "python",
   "pygments_lexer": "ipython3",
   "version": "3.9.7"
  },
  "orig_nbformat": 4
 },
 "nbformat": 4,
 "nbformat_minor": 2
}
