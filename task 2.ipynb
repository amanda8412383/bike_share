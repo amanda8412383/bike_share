{
 "cells": [
  {
   "cell_type": "markdown",
   "metadata": {},
   "source": [
    "This file preserve python code I used for task 2\n",
    "\n",
    "### Q1: How is the bike share business in San Francisco performing over time?"
   ]
  },
  {
   "cell_type": "code",
   "execution_count": 4,
   "metadata": {},
   "outputs": [],
   "source": [
    "#import data\n",
    "\n",
    "from google.cloud import bigquery\n",
    "Client = bigquery.Client.from_service_account_json(r'key.json')\n",
    "import os\n",
    "os.environ[\"GOOGLE_APPLICATION_CREDENTIALS\"]=r'key.json'\n",
    "\n",
    "\n",
    "bqclient = bigquery.Client()\n",
    "\n",
    "query_string = \"\"\"\n",
    "#standardSQL\n",
    "\n",
    "SELECT \n",
    "    trip_id, \n",
    "    CAST(start_date AS DATE) AS start_date, \n",
    "    FIRST_VALUE(start_station_name) OVER(PARTITION BY start_station_id ORDER BY start_date DESC) AS start_station_name,\n",
    "    CAST(end_date AS DATE) AS end_date, \n",
    "    FIRST_VALUE(end_station_name) OVER(PARTITION BY end_station_id ORDER BY start_date DESC) AS end_station_name,\n",
    "    TIMESTAMP_DIFF(end_date, start_date, second) AS duration,\n",
    "    EXTRACT(YEAR from start_date) AS year,\n",
    "    EXTRACT(TIME from start_date) AS time,\n",
    "    EXTRACT(DAYOFWEEK from start_date) AS weekday,\n",
    "    bike_number, \n",
    "    subscriber_type, \n",
    "    member_birth_year, \n",
    "    member_gender \n",
    "FROM \n",
    "    `bigquery-public-data.san_francisco_bikeshare.bikeshare_trips` y\n",
    "\"\"\"\n",
    "\n",
    "sf = (\n",
    "    bqclient.query(query_string)\n",
    "    .result()\n",
    "    .to_dataframe(\n",
    "        create_bqstorage_client=True,\n",
    "    )\n",
    ")"
   ]
  },
  {
   "cell_type": "code",
   "execution_count": 1,
   "metadata": {},
   "outputs": [],
   "source": [
    "# check null\n",
    "# used subscriber, customer, total\n",
    "# used bike,  active stations, \n",
    "# trips taken by subscriber & customer, duration, by year over date\n",
    "# heatmap of station"
   ]
  },
  {
   "cell_type": "code",
   "execution_count": null,
   "metadata": {},
   "outputs": [],
   "source": []
  },
  {
   "cell_type": "markdown",
   "metadata": {},
   "source": [
    "### Q2: What are your observations when you compare bike share users in San Francisco with bike share users in New York?"
   ]
  },
  {
   "cell_type": "code",
   "execution_count": null,
   "metadata": {},
   "outputs": [],
   "source": [
    "# gender & age demo average over day\n",
    "# comparing temperature effect \n",
    "# comparing subscriber & customer weekday & day pattern"
   ]
  }
 ],
 "metadata": {
  "interpreter": {
   "hash": "05d24087b135ef8af3ac14ef5f0b8b08c3013cfa2664352105f6eef1ecb4f353"
  },
  "kernelspec": {
   "display_name": "Python 3.9.7 64-bit ('bike': conda)",
   "name": "python3"
  },
  "language_info": {
   "codemirror_mode": {
    "name": "ipython",
    "version": 3
   },
   "file_extension": ".py",
   "mimetype": "text/x-python",
   "name": "python",
   "nbconvert_exporter": "python",
   "pygments_lexer": "ipython3",
   "version": "3.9.7"
  },
  "orig_nbformat": 4
 },
 "nbformat": 4,
 "nbformat_minor": 2
}
