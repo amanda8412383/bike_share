{
 "cells": [
  {
   "cell_type": "markdown",
   "metadata": {},
   "source": [
    "This file preserve the SQL query I used for task 1. "
   ]
  },
  {
   "cell_type": "markdown",
   "metadata": {},
   "source": [
    "### Q1: How many bike trips have been started in San Jose?"
   ]
  },
  {
   "cell_type": "code",
   "execution_count": null,
   "metadata": {},
   "outputs": [],
   "source": [
    "#standardSQL\n",
    "SELECT\n",
    "start_station_name, lon, lat, COUNT(trip_id) AS cnt\n",
    "FROM\n",
    "  `bigquery-public-data.san_francisco_bikeshare.bikeshare_trips` AS trip\n",
    "INNER JOIN \n",
    "  (SELECT station_id, region_id, lon, lat\n",
    "  FROM `bigquery-public-data.san_francisco_bikeshare.bikeshare_station_info` AS S\n",
    "  INNER JOIN \n",
    "    (SELECT region_id AS id\n",
    "    FROM`bigquery-public-data.san_francisco_bikeshare.bikeshare_regions`\n",
    "    WHERE name = \"San Jose\")AS R\n",
    "  ON S.region_id = R.id\n",
    "    ) AS station\n",
    "ON trip.start_station_id =station.station_id\n",
    "GROUP BY start_station_name, lon, lat\n",
    "\n"
   ]
  },
  {
   "cell_type": "markdown",
   "metadata": {},
   "source": [
    "### Q2: Which bike station has the oldest members in average?"
   ]
  },
  {
   "cell_type": "code",
   "execution_count": null,
   "metadata": {},
   "outputs": [],
   "source": []
  },
  {
   "cell_type": "markdown",
   "metadata": {},
   "source": [
    "### Q3: During which month in 2018 did customers ride the longest per trip?"
   ]
  },
  {
   "cell_type": "code",
   "execution_count": null,
   "metadata": {},
   "outputs": [],
   "source": []
  },
  {
   "cell_type": "markdown",
   "metadata": {},
   "source": [
    "### Q4: What are the top 3 starting stations for customers with a subscription?"
   ]
  },
  {
   "cell_type": "code",
   "execution_count": null,
   "metadata": {},
   "outputs": [],
   "source": []
  },
  {
   "cell_type": "markdown",
   "metadata": {},
   "source": [
    "### Q5: What is the average time difference between start dates of bike trips for the station “SAP Center”?"
   ]
  },
  {
   "cell_type": "code",
   "execution_count": null,
   "metadata": {},
   "outputs": [],
   "source": []
  },
  {
   "cell_type": "code",
   "execution_count": null,
   "metadata": {},
   "outputs": [],
   "source": []
  }
 ],
 "metadata": {
  "interpreter": {
   "hash": "05d24087b135ef8af3ac14ef5f0b8b08c3013cfa2664352105f6eef1ecb4f353"
  },
  "kernelspec": {
   "display_name": "Python 3.9.7 64-bit ('bike': conda)",
   "name": "python3"
  },
  "language_info": {
   "codemirror_mode": {
    "name": "ipython",
    "version": 3
   },
   "file_extension": ".py",
   "mimetype": "text/x-python",
   "name": "python",
   "nbconvert_exporter": "python",
   "pygments_lexer": "ipython3",
   "version": "3.9.7"
  },
  "orig_nbformat": 4
 },
 "nbformat": 4,
 "nbformat_minor": 2
}
